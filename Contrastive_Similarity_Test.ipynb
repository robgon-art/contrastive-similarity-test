{
  "nbformat": 4,
  "nbformat_minor": 0,
  "metadata": {
    "colab": {
      "provenance": [],
      "mount_file_id": "14WTeaojPdt-feuR8wJOyuUc_TQT5YfaC",
      "authorship_tag": "ABX9TyNKAh+8LnLkkdZ+xYnAJTfO",
      "include_colab_link": true
    },
    "kernelspec": {
      "name": "python3",
      "display_name": "Python 3"
    },
    "language_info": {
      "name": "python"
    },
    "accelerator": "GPU",
    "gpuClass": "premium"
  },
  "cells": [
    {
      "cell_type": "markdown",
      "metadata": {
        "id": "view-in-github",
        "colab_type": "text"
      },
      "source": [
        "<a href=\"https://colab.research.google.com/github/robgon-art/contrastive-similarity-test/blob/main/Contrastive_Similarity_Test.ipynb\" target=\"_parent\"><img src=\"https://colab.research.google.com/assets/colab-badge.svg\" alt=\"Open In Colab\"/></a>"
      ]
    },
    {
      "cell_type": "code",
      "source": [
        "!git clone https://github.com/robgon-art/contrastive-similarity-test"
      ],
      "metadata": {
        "colab": {
          "base_uri": "https://localhost:8080/"
        },
        "id": "w69EjqFsIwdb",
        "outputId": "3f81bbe3-dc31-43c6-c0cc-f94989f14de6"
      },
      "execution_count": 3,
      "outputs": [
        {
          "output_type": "stream",
          "name": "stdout",
          "text": [
            "Cloning into 'contrastive-similarity-test'...\n",
            "remote: Enumerating objects: 40, done.\u001b[K\n",
            "remote: Counting objects: 100% (40/40), done.\u001b[K\n",
            "remote: Compressing objects: 100% (37/37), done.\u001b[K\n",
            "remote: Total 40 (delta 7), reused 0 (delta 0), pack-reused 0\u001b[K\n",
            "Unpacking objects: 100% (40/40), done.\n"
          ]
        }
      ]
    },
    {
      "cell_type": "code",
      "metadata": {
        "id": "62-fEt6zKElK"
      },
      "source": [
        "!pip install ftfy regex tqdm\n",
        "!pip install git+https://github.com/openai/CLIP.git"
      ],
      "execution_count": null,
      "outputs": []
    },
    {
      "cell_type": "code",
      "source": [
        "import clip\n",
        "print(clip.available_models())"
      ],
      "metadata": {
        "colab": {
          "base_uri": "https://localhost:8080/"
        },
        "id": "kbXDEPwHUYKr",
        "outputId": "55708287-ee70-43e8-f067-cdcdc122ae7d"
      },
      "execution_count": 5,
      "outputs": [
        {
          "output_type": "stream",
          "name": "stdout",
          "text": [
            "['RN50', 'RN101', 'RN50x4', 'RN50x16', 'RN50x64', 'ViT-B/32', 'ViT-B/16', 'ViT-L/14', 'ViT-L/14@336px']\n"
          ]
        }
      ]
    },
    {
      "cell_type": "code",
      "metadata": {
        "id": "pLf1HrjgKTKB",
        "colab": {
          "base_uri": "https://localhost:8080/"
        },
        "outputId": "bb9601a1-13d9-4acf-f9cd-50a0ed8aeda7"
      },
      "source": [
        "import torch\n",
        "import clip\n",
        "from PIL import Image\n",
        "device = \"cuda\" if torch.cuda.is_available() else \"cpu\"\n",
        "model, preprocess = clip.load(\"ViT-L/14@336px\", device=device)"
      ],
      "execution_count": 6,
      "outputs": [
        {
          "output_type": "stream",
          "name": "stderr",
          "text": [
            "100%|███████████████████████████████████████| 891M/891M [00:23<00:00, 39.5MiB/s]\n"
          ]
        }
      ]
    },
    {
      "cell_type": "code",
      "source": [
        "res = model.visual.input_resolution\n",
        "print(res)"
      ],
      "metadata": {
        "colab": {
          "base_uri": "https://localhost:8080/"
        },
        "id": "FUVrOETSvsT2",
        "outputId": "01a62529-0953-4178-d915-d2d01ba81681"
      },
      "execution_count": 7,
      "outputs": [
        {
          "output_type": "stream",
          "name": "stdout",
          "text": [
            "336\n"
          ]
        }
      ]
    },
    {
      "cell_type": "code",
      "source": [
        "import glob\n",
        "file_list = glob.glob(\"/content/contrastive-similarity-test/images/*.png\")\n",
        "file_list.sort()"
      ],
      "metadata": {
        "id": "1Bl5XeosL4zl"
      },
      "execution_count": 8,
      "outputs": []
    },
    {
      "cell_type": "code",
      "source": [
        "from IPython.display import display\n",
        "prompt_similarities = []\n",
        "esthetic_qualities = []\n",
        "labels = []\n",
        "\n",
        "prompt = \"painting of a French man wearing a hat drinking wine at an outdoor cafe\"\n",
        "\n",
        "inaccurate_prompt = \"inaccurate \" + prompt\n",
        "accurate_prompt = \"accurate \" + prompt\n",
        "fake_prompt = \"fake \" + prompt\n",
        "real_prompt = \"real \" + prompt\n",
        "\n",
        "text = clip.tokenize([\"ugly art\", \"beautiful art\", \"bad art\", \"good art\", inaccurate_prompt, accurate_prompt, fake_prompt, real_prompt]).to(device)\n",
        "\n",
        "with torch.no_grad():\n",
        "  text_features = model.encode_text(text)\n",
        "  text_features /= text_features.norm(dim=-1, keepdim=True)\n",
        "\n",
        "for v, f in enumerate(file_list):\n",
        "  version = f[-6:-4]\n",
        "\n",
        "  img = Image.open(f)\n",
        "  img_resized = img.resize((512, 512), resample=Image.BICUBIC)\n",
        "\n",
        "  count = 1\n",
        "\n",
        "  for j in range(2):\n",
        "    for i in range(2):\n",
        "      label = version + \"-\" + str(count)\n",
        "      labels.append(label)\n",
        "\n",
        "      # print(v, f, label)\n",
        "      count += 1\n",
        "\n",
        "      img_cropped = img_resized.crop((i*256, j*256, (i+1)*256, (j+1)*256))\n",
        "      image = preprocess(img_cropped).unsqueeze(0).to(device)\n",
        "\n",
        "      with torch.no_grad():\n",
        "        image_features = model.encode_image(image)\n",
        "        image_features /= image_features.norm(dim=-1, keepdim=True)\n",
        "        similarity = text_features.cpu().numpy() @ image_features.cpu().numpy().T\n",
        "\n",
        "      ugly = similarity[0][0]\n",
        "      beautiful = similarity[1][0]\n",
        "      bad = similarity[2][0]\n",
        "      good = similarity[3][0]\n",
        "      esthetic_quality = (beautiful-ugly) + (good-bad)\n",
        "\n",
        "      inaccurate_prompt = similarity[4][0]\n",
        "      accurate_prompt = similarity[5][0]\n",
        "      fake_prompt = similarity[6][0]\n",
        "      real_prompt = similarity[7][0]\n",
        "      prompt_similarity = (accurate_prompt-inaccurate_prompt) + (real_prompt-fake_prompt)\n",
        "\n",
        "      prompt_similarities.append(esthetic_quality)\n",
        "      esthetic_qualities.append(prompt_similarity)\n",
        "\n",
        "      print(\"{:7.4f}\".format(prompt_similarity), \"{:7.4f}\".format(esthetic_quality), v, label, f)\n",
        "\n",
        "import matplotlib.pyplot as plt\n",
        "fig, ax = plt.subplots(figsize=(8, 8), dpi=80)\n",
        "plt.xlabel(\"matches less <--    Prompt Similarity    --> matches more\", fontsize=12)\n",
        "plt.ylabel(\"lower <--    Esthetic Quality    --> higher\", fontsize=12)\n",
        "plt.scatter(esthetic_qualities[12:16], prompt_similarities[12:16], s=100, label=\"Midjourney v4\")\n",
        "plt.scatter(esthetic_qualities[8:12], prompt_similarities[8:12], s=100, label=\"Midjourney v3\")\n",
        "plt.scatter(esthetic_qualities[4:8], prompt_similarities[4:8], s=100, label=\"Midjourney v2\")\n",
        "plt.scatter(esthetic_qualities[0:4], prompt_similarities[0:4], s=100, label=\"Midjourney v1\")\n",
        "plt.legend(loc=\"lower right\")\n",
        "\n",
        "for i, txt in enumerate(labels):\n",
        "  ax.annotate(txt, (esthetic_qualities[i]+0.0006, prompt_similarities[i]-0.00075))\n",
        "plt.show()"
      ],
      "metadata": {
        "colab": {
          "base_uri": "https://localhost:8080/",
          "height": 843
        },
        "id": "-4zSDgj2KQ2Y",
        "outputId": "8b154de5-c592-4ebb-9acd-9a4cd531d16d"
      },
      "execution_count": 9,
      "outputs": [
        {
          "output_type": "stream",
          "name": "stdout",
          "text": [
            " 0.0015  0.0103 0 v1-1 /content/contrastive-similarity-test/images/mjv1.png\n",
            "-0.0078  0.0133 0 v1-2 /content/contrastive-similarity-test/images/mjv1.png\n",
            "-0.0081  0.0294 0 v1-3 /content/contrastive-similarity-test/images/mjv1.png\n",
            " 0.0024  0.0442 0 v1-4 /content/contrastive-similarity-test/images/mjv1.png\n",
            "-0.0027  0.0273 1 v2-1 /content/contrastive-similarity-test/images/mjv2.png\n",
            "-0.0146  0.0192 1 v2-2 /content/contrastive-similarity-test/images/mjv2.png\n",
            "-0.0198 -0.0106 1 v2-3 /content/contrastive-similarity-test/images/mjv2.png\n",
            " 0.0000  0.0188 1 v2-4 /content/contrastive-similarity-test/images/mjv2.png\n",
            " 0.0068  0.0356 2 v3-1 /content/contrastive-similarity-test/images/mjv3.png\n",
            "-0.0024  0.0410 2 v3-2 /content/contrastive-similarity-test/images/mjv3.png\n",
            "-0.0007  0.0234 2 v3-3 /content/contrastive-similarity-test/images/mjv3.png\n",
            "-0.0073  0.0182 2 v3-4 /content/contrastive-similarity-test/images/mjv3.png\n",
            "-0.0024  0.0673 3 v4-1 /content/contrastive-similarity-test/images/mjv4.png\n",
            " 0.0076  0.0524 3 v4-2 /content/contrastive-similarity-test/images/mjv4.png\n",
            "-0.0027  0.0818 3 v4-3 /content/contrastive-similarity-test/images/mjv4.png\n",
            "-0.0024  0.0549 3 v4-4 /content/contrastive-similarity-test/images/mjv4.png\n"
          ]
        },
        {
          "output_type": "display_data",
          "data": {
            "text/plain": [
              "<Figure size 640x640 with 1 Axes>"
            ],
            "image/png": "[encoded data removed]"
          },
          "metadata": {
            "needs_background": "light"
          }
        }
      ]
    },
    {
      "cell_type": "code",
      "source": [
        "print(similarity.shape)"
      ],
      "metadata": {
        "colab": {
          "base_uri": "https://localhost:8080/"
        },
        "id": "QMVa9Ev-oqpN",
        "outputId": "40eba3cb-18af-4397-f7d5-2cc512331a33"
      },
      "execution_count": 10,
      "outputs": [
        {
          "output_type": "stream",
          "name": "stdout",
          "text": [
            "(8, 1)\n"
          ]
        }
      ]
    }
  ]
}